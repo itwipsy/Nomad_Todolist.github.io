{
  "nbformat": 4,
  "nbformat_minor": 0,
  "metadata": {
    "colab": {
      "name": "n131a-vectors-matrices.ipynb",
      "provenance": []
    },
    "kernelspec": {
      "display_name": "Python 3",
      "language": "python",
      "name": "python3"
    },
    "language_info": {
      "codemirror_mode": {
        "name": "ipython",
        "version": 3
      },
      "file_extension": ".py",
      "mimetype": "text/x-python",
      "name": "python",
      "nbconvert_exporter": "python",
      "pygments_lexer": "ipython3",
      "version": "3.8.2"
    }
  },
  "cells": [
    {
      "cell_type": "markdown",
      "metadata": {
        "id": "Y7hxe5O-9ukJ"
      },
      "source": [
        "<img src='https://i.imgur.com/RDAD11M.png' width = '200' align = 'right'>\n",
        "\n",
        "## *DATA SCIENCE / SECTION 1 / SPRINT 3 / NOTE 1*\n",
        "\n",
        "# 📝 Assignment"
      ]
    },
    {
      "cell_type": "markdown",
      "metadata": {
        "id": "yXA3GwWhY9KL"
      },
      "source": [
        "## 1. Portfolio\n",
        "\n",
        "`Dot product` & `Matrix Multiplication` 을 이용하여 다음 포트폴리오의 사람별 총합을 계산하세요.\n",
        "- 결과는 `res`에 list형태로 저장합니다.\n",
        "\n",
        "|People|Name|Price|Amount|\n",
        "|:-:|:-:|:-:|:-:|\n",
        "|X|A|100|35|\n",
        "|X|B|500|10|\n",
        "|X|C|250|25|\n",
        "|X|D|50|40|\n",
        "|Y|A|100|-|\n",
        "|Y|B|500|50|\n",
        "|Y|C|250|50|\n",
        "|Y|D|50|-|\n",
        "|Z|A|100|-|\n",
        "|Z|B|500|-|\n",
        "|Z|C|250|100|\n",
        "|Z|D|50|-|\n",
        "\n"
      ]
    },
    {
      "cell_type": "code",
      "metadata": {
        "id": "ErSR5soVblfv",
        "outputId": "fbe37779-f72b-40af-b68f-d179db359a31",
        "colab": {
          "base_uri": "https://localhost:8080/"
        }
      },
      "source": [
        "# 이곳에 답안을 작성하시기 바랍니다\n",
        "import pandas as pd\n",
        "df = pd.DataFrame([\n",
        "              ['X', 'A', 100, 35],\n",
        "              ['X', 'B', 500, 10],\n",
        "              ['X', 'C', 250, 25],\n",
        "              ['X', 'D', 50, 40],\n",
        "              ['Y', 'A', 100,'-'],\n",
        "              ['Y', 'B', 500, 50],\n",
        "              ['Y', 'C', 250, 50],\n",
        "              ['Y', 'D', 50,'-'],\n",
        "              ['Z', 'A', 100,'-'],\n",
        "              ['Z', 'B', 500,'-'],\n",
        "              ['Z', 'C', 250, 100],\n",
        "              ['Z', 'D', 50,'-']],\n",
        "              \n",
        " columns = ['People', 'Name','Price','Amount'])\n",
        "res=[]\n",
        "df1=df.replace('-',0)\n",
        "X_price=df1['Price'][0:4]\n",
        "X_amount=df1['Amount'][0:4]\n",
        "Y_price=df1['Price'][5:9]\n",
        "Y_amount=df1['Amount'][5:9]\n",
        "Z_price=df1['Price'][10:14]\n",
        "Z_amount=df1['Amount'][10:14]\n",
        "res.append(X_price.dot(X_amount))\n",
        "res.append(Y_price.dot(Y_amount))\n",
        "res.append(Z_price.dot(Z_amount))\n",
        "res"
      ],
      "execution_count": 25,
      "outputs": [
        {
          "output_type": "execute_result",
          "data": {
            "text/plain": [
              "[16750, 37500, 25000]"
            ]
          },
          "metadata": {
            "tags": []
          },
          "execution_count": 25
        }
      ]
    },
    {
      "cell_type": "markdown",
      "metadata": {
        "id": "dMgAVgIuGe_B"
      },
      "source": [
        "## 2. Norms\n",
        "주어진 값 $x_0, x_1, ... x_n$ 를 element로 갖는 벡터 $v$에 대하여 \n",
        "\n",
        "$L_1$ Norm 의 정의는 다음과 같습니다. \n",
        "\n",
        "$|v| = |x_0| + |x_1| + ... + |x_n|$\n",
        "\n",
        "$L_2$ Norm 의 정의는 다음과 같습니다.\n",
        "\n",
        "$||v|| = \\sqrt {{x_0}^2 + {x_1}^2 + ... + {x_n}^2}$\n",
        "\n",
        "이를 참조하여 주어진 벡터에 대해서 $L_2$ Norm 의 값과 $L_1$ Norm 의 값의 차이(**절대값**)를 계산하는 함수를 만드세요.\n",
        "\n"
      ]
    },
    {
      "cell_type": "code",
      "metadata": {
        "id": "XrYfAExIGemC",
        "outputId": "a2a020d8-2a01-47c0-b326-7564de13057b",
        "colab": {
          "base_uri": "https://localhost:8080/"
        }
      },
      "source": [
        "import numpy as np\n",
        "def NormDif(v): # v = np.array()\n",
        "    L1=np.abs(v).sum()\n",
        "    L2=np.sqrt(np.power(v,2).sum())\n",
        "    Diff = L1 - L2\n",
        "    return np.abs(Diff)\n",
        "NormDif([1,2,3,4])\n"
      ],
      "execution_count": 41,
      "outputs": [
        {
          "output_type": "execute_result",
          "data": {
            "text/plain": [
              "4.522774424948339"
            ]
          },
          "metadata": {
            "tags": []
          },
          "execution_count": 41
        }
      ]
    },
    {
      "cell_type": "markdown",
      "metadata": {
        "id": "VBJHWdyalU4G"
      },
      "source": [
        "## 3. Errors\n",
        "\n",
        "\n",
        "\n",
        "- 2개의 벡터와, error의 타입을 입력받아 그 결과값을 계산하는 함수를 작성하세요.\n",
        "\n",
        "- 여기서 error의 타입은 `MSE`, `MAE` 2가지 입니다.\n",
        "\n"
      ]
    },
    {
      "cell_type": "code",
      "metadata": {
        "id": "LQy8_pEUHHDC",
        "colab": {
          "base_uri": "https://localhost:8080/"
        },
        "outputId": "51f71439-25a2-409c-c0fa-9e8f32d6c10b"
      },
      "source": [
        "def error(x, y, type) :\n",
        "    L1=np.abs(x-y).sum()\n",
        "    MAE=L1/ len(x)\n",
        "    L2=np.sqrt(np.power(x-y,2).sum())\n",
        "    MSE=L2 / len(x)\n",
        "\n",
        "    if type == 'MSE':\n",
        "        result = MSE\n",
        "    elif type == 'MAE':\n",
        "        result = MAE\n",
        "    else:\n",
        "        result=print('Put error type correctly')\n",
        "    return result\n",
        "\n",
        "error(np.array([1,2,3,4]),np.array([1,2,3,5]), 'MSE')"
      ],
      "execution_count": 73,
      "outputs": [
        {
          "output_type": "execute_result",
          "data": {
            "text/plain": [
              "0.25"
            ]
          },
          "metadata": {
            "tags": []
          },
          "execution_count": 73
        }
      ]
    },
    {
      "cell_type": "markdown",
      "metadata": {
        "id": "l2Teph_aS16e"
      },
      "source": [
        "# 4. Inverse\n",
        "\n",
        "- 주어진 matrix에 대해서 inverse matrix를 계산하여 반환하는 함수를 작성하세요. \n",
        "- 이 때 inverse 계산이 불가능 한 경우 `-1` 을 반환합니다."
      ]
    },
    {
      "cell_type": "code",
      "metadata": {
        "id": "1hseshZkS1eX",
        "outputId": "0f3f1a2b-0472-4abe-d8eb-c35e533b625c",
        "colab": {
          "base_uri": "https://localhost:8080/"
        }
      },
      "source": [
        "def myInverse(m) : # m = np.array()\n",
        "    \n",
        "    if np.linalg.det(m) == 0:\n",
        "        result = -1\n",
        "    else:\n",
        "        result = np.linalg.inv(m)\n",
        "    return result\n",
        "\n",
        "m = np.array([[1, 2], [1, 2]])\n",
        "print(myInverse(m))\n",
        "a = np.array([[1, 2, 100], [1, 2, 3], [3, 2, 6]])\n",
        "print(myInverse(a))"
      ],
      "execution_count": 84,
      "outputs": [
        {
          "output_type": "stream",
          "text": [
            "-1\n",
            "[[-0.01546392 -0.48453608  0.5       ]\n",
            " [-0.00773196  0.75773196 -0.25      ]\n",
            " [ 0.01030928 -0.01030928  0.        ]]\n"
          ],
          "name": "stdout"
        }
      ]
    },
    {
      "cell_type": "markdown",
      "metadata": {
        "id": "V0iTO4McYjtk"
      },
      "source": [
        "# 🔥 도전과제 \n",
        "\n"
      ]
    },
    {
      "cell_type": "markdown",
      "metadata": {
        "id": "3p45qAIGFTBZ"
      },
      "source": [
        "다음 링크의 내용을 참조하여 **Cramer's rule**을 사용해 $x_1$, $x_2$, $x_3$의 값을 구하세요.\n",
        "\n",
        "<https://youtu.be/6StS7VjtuGI>\n",
        "\n",
        "\n",
        "$x_1$ + $2x_3$ = 6\n",
        "\n",
        "$-3x_1$ + $4x_2$ + $6x_3$ = 30\n",
        "\n",
        "$-x_1$ $-2x_2$ + $3x_3$ = 8\n",
        "\n"
      ]
    },
    {
      "cell_type": "code",
      "metadata": {
        "id": "2WJdG9z5eIhz",
        "outputId": "c8fc1612-ac24-493f-e213-f130f92fa513",
        "colab": {
          "base_uri": "https://localhost:8080/"
        }
      },
      "source": [
        "b=np.array([6, 30, 8])\n",
        "A=np.array([[1,0,2],[-3,4,6],[-1,-2,3]])\n",
        "A_x1=np.array([[1,0,2],[-3,4,6],[-1,-2,3]])\n",
        "A_x2=np.array([[1,0,2],[-3,4,6],[-1,-2,3]])\n",
        "A_x3=np.array([[1,0,2],[-3,4,6],[-1,-2,3]])\n",
        "\n",
        "#각 A의 칼럼을 b로 대체\n",
        "A_x1.T[0] = b\n",
        "A_x2.T[1] = b\n",
        "A_x3.T[2] = b\n",
        "\n",
        "d_Ax1=np.linalg.det(A_x1)\n",
        "d_Ax2=np.linalg.det(A_x2)\n",
        "d_Ax3=np.linalg.det(A_x3)\n",
        "\n",
        "d_A=np.linalg.det(A)\n",
        "\n",
        "X=[]\n",
        "x1=d_Ax1/d_A\n",
        "X.append(x1)\n",
        "x2=d_Ax2/d_A\n",
        "X.append(x2)\n",
        "x3=d_Ax3/d_A\n",
        "X.append(x3)\n",
        "\n",
        "print(X)\n",
        "print('x1 =',x1)\n",
        "print('x2 =',x2)\n",
        "print('x3 =',x3)"
      ],
      "execution_count": 221,
      "outputs": [
        {
          "output_type": "stream",
          "text": [
            "[-0.9090909090909088, 1.6363636363636358, 3.4545454545454533]\n",
            "x1 = -0.9090909090909088\n",
            "x2 = 1.6363636363636358\n",
            "x3 = 3.4545454545454533\n"
          ],
          "name": "stdout"
        }
      ]
    },
    {
      "cell_type": "code",
      "metadata": {
        "id": "lC6nVQPaCdcP",
        "outputId": "42102c0f-80d9-4371-8861-111aa81a905e",
        "colab": {
          "base_uri": "https://localhost:8080/"
        }
      },
      "source": [
        "#검산\n",
        "np.dot(np.linalg.inv(A),b)"
      ],
      "execution_count": 235,
      "outputs": [
        {
          "output_type": "execute_result",
          "data": {
            "text/plain": [
              "array([-0.90909091,  1.63636364,  3.45454545])"
            ]
          },
          "metadata": {
            "tags": []
          },
          "execution_count": 235
        }
      ]
    }
  ]
}