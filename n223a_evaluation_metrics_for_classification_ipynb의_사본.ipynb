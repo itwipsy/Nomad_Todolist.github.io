{
  "nbformat": 4,
  "nbformat_minor": 0,
  "metadata": {
    "kernelspec": {
      "display_name": "Python 3",
      "language": "python",
      "name": "python3"
    },
    "language_info": {
      "codemirror_mode": {
        "name": "ipython",
        "version": 3
      },
      "file_extension": ".py",
      "mimetype": "text/x-python",
      "name": "python",
      "nbconvert_exporter": "python",
      "pygments_lexer": "ipython3",
      "version": "3.7.7"
    },
    "colab": {
      "name": "n223a-evaluation-metrics-for-classification.ipynb의 사본",
      "provenance": [],
      "include_colab_link": true
    }
  },
  "cells": [
    {
      "cell_type": "markdown",
      "metadata": {
        "id": "view-in-github",
        "colab_type": "text"
      },
      "source": [
        "<a href=\"https://colab.research.google.com/github/itwipsy/Nomad_Todolist.github.io/blob/main/n223a_evaluation_metrics_for_classification_ipynb%EC%9D%98_%EC%82%AC%EB%B3%B8.ipynb\" target=\"_parent\"><img src=\"https://colab.research.google.com/assets/colab-badge.svg\" alt=\"Open In Colab\"/></a>"
      ]
    },
    {
      "cell_type": "markdown",
      "metadata": {
        "id": "5K5JVw8m_2Yf"
      },
      "source": [
        "<img align=\"right\" src=\"https://ds-cs-images.s3.ap-northeast-2.amazonaws.com/Codestates_Fulllogo_Color.png\" width=100>\n",
        "\n",
        "## *DATA SCIENCE / SECTION 2 / SPRINT 2 / NOTE 3*\n",
        "\n",
        "# 📝 Assignment\n",
        "---"
      ]
    },
    {
      "cell_type": "markdown",
      "metadata": {
        "id": "nCc3XZEyG3XV"
      },
      "source": [
        "# Evaluation Metrics for Classification\n",
        "\n",
        "### 1) Kaggle 챌린지를 이어서 진행합니다.\n",
        "- **다음 조건에서 F beta score를 구하고 과제 제출폼에 제출하세요.**\n",
        "    - TP = 4442, TN = 6165, FP = 1515, FN = 1930, 재현율에 정밀도의 2배 가중치를 부여합니다."
      ]
    },
    {
      "cell_type": "code",
      "metadata": {
        "id": "r0vbV3JcxVJe",
        "colab": {
          "base_uri": "https://localhost:8080/"
        },
        "outputId": "a91068e3-db3d-4e52-c5c0-1a27e58d00b6"
      },
      "source": [
        "TP = 4442\n",
        "TN = 6165\n",
        "FP = 1515\n",
        "FN = 1930\n",
        "beta=2\n",
        "b=beta**2\n",
        "b"
      ],
      "execution_count": 1,
      "outputs": [
        {
          "output_type": "execute_result",
          "data": {
            "text/plain": [
              "4"
            ]
          },
          "metadata": {},
          "execution_count": 1
        }
      ]
    },
    {
      "cell_type": "code",
      "metadata": {
        "id": "CJVL34phxc1G",
        "colab": {
          "base_uri": "https://localhost:8080/"
        },
        "outputId": "02574057-2683-432d-b6be-373288e4b608"
      },
      "source": [
        "precison=TP/(TP+FP)\n",
        "recall=TP/(TP+FN)\n",
        "numerator=precison*recall\n",
        "denominator=precison*b+recall\n",
        "F_beta_score=(1+b)*numerator/denominator\n",
        "F_beta_score"
      ],
      "execution_count": 2,
      "outputs": [
        {
          "output_type": "execute_result",
          "data": {
            "text/plain": [
              "0.7063126093178566"
            ]
          },
          "metadata": {},
          "execution_count": 2
        }
      ]
    },
    {
      "cell_type": "markdown",
      "metadata": {
        "id": "sXpqkcpo2yKC"
      },
      "source": [
        "#TP = 4442, TN = 6165, FP = 1515, FN = 1930, 재현율에 정밀도의 2배 가중치를 부여합니다."
      ]
    },
    {
      "cell_type": "code",
      "metadata": {
        "id": "FwaCx4CKmpl_"
      },
      "source": [
        "import pandas as pd\n",
        "import numpy as np"
      ],
      "execution_count": 3,
      "outputs": []
    },
    {
      "cell_type": "code",
      "metadata": {
        "id": "C4RdhcqBmuFT"
      },
      "source": [
        "target = 'vacc_h1n1_f'\n",
        "train = pd.merge(pd.read_csv('https://ds-lecture-data.s3.ap-northeast-2.amazonaws.com/vacc_flu/train.csv'), \n",
        "                 pd.read_csv('https://ds-lecture-data.s3.ap-northeast-2.amazonaws.com/vacc_flu/train_labels.csv')[target], left_index=True, right_index=True)\n",
        "\n",
        "test = pd.read_csv('https://ds-lecture-data.s3.ap-northeast-2.amazonaws.com/vacc_flu/test.csv')\n",
        "sample_submission = pd.read_csv('https://ds-lecture-data.s3.ap-northeast-2.amazonaws.com/vacc_flu/submission.csv')"
      ],
      "execution_count": 4,
      "outputs": []
    },
    {
      "cell_type": "code",
      "metadata": {
        "id": "zavQZSslmxeo",
        "colab": {
          "base_uri": "https://localhost:8080/"
        },
        "outputId": "deb1e311-9b70-42da-f61f-e23dc944dc1f"
      },
      "source": [
        "from sklearn.model_selection import train_test_split\n",
        "\n",
        "# 검증세트를 테스트세트와 크기와 같도록 만듭니다.\n",
        "train, val = train_test_split(train, train_size=0.80, test_size=0.20, stratify=train[target], random_state=2)\n",
        "\n",
        "train.shape, val.shape, test.shape"
      ],
      "execution_count": 5,
      "outputs": [
        {
          "output_type": "execute_result",
          "data": {
            "text/plain": [
              "((33723, 39), (8431, 39), (28104, 38))"
            ]
          },
          "metadata": {},
          "execution_count": 5
        }
      ]
    },
    {
      "cell_type": "code",
      "metadata": {
        "id": "RZXMDyj1m0WS"
      },
      "source": [
        "def engineer(df):\n",
        "    \"\"\"특성을 엔지니어링 하는 함수입니다.\"\"\"\n",
        "        \n",
        "    # 새로운 특성을 생성합니다.\n",
        "    behaviorals = [col for col in df.columns if 'behavioral' in col] \n",
        "    df['behaviorals'] = df[behaviorals].sum(axis=1)\n",
        "    \n",
        "    \n",
        "    # 계절독감(seas)에 대한 모델을 학습할 것이기 때문에 h1n1에 대한 특성을 제거합니다.\n",
        "    dels = [col for col in df.columns if ('employment' in col or 'seas' in col)]\n",
        "    df.drop(columns=dels, inplace=True)\n",
        "\n",
        "        \n",
        "    return df\n",
        "\n",
        "\n",
        "train = engineer(train)\n",
        "val = engineer(val)\n",
        "test = engineer(test)"
      ],
      "execution_count": 6,
      "outputs": []
    },
    {
      "cell_type": "code",
      "metadata": {
        "id": "uz8BziQn0LWx",
        "colab": {
          "base_uri": "https://localhost:8080/"
        },
        "outputId": "ab37879a-397e-4201-bc2c-938bff64f8c0"
      },
      "source": [
        "! pip install category_encoders"
      ],
      "execution_count": 7,
      "outputs": [
        {
          "output_type": "stream",
          "text": [
            "Requirement already satisfied: category_encoders in /usr/local/lib/python3.7/dist-packages (2.2.2)\n",
            "Requirement already satisfied: scikit-learn>=0.20.0 in /usr/local/lib/python3.7/dist-packages (from category_encoders) (0.22.2.post1)\n",
            "Requirement already satisfied: scipy>=1.0.0 in /usr/local/lib/python3.7/dist-packages (from category_encoders) (1.4.1)\n",
            "Requirement already satisfied: statsmodels>=0.9.0 in /usr/local/lib/python3.7/dist-packages (from category_encoders) (0.10.2)\n",
            "Requirement already satisfied: numpy>=1.14.0 in /usr/local/lib/python3.7/dist-packages (from category_encoders) (1.19.5)\n",
            "Requirement already satisfied: patsy>=0.5.1 in /usr/local/lib/python3.7/dist-packages (from category_encoders) (0.5.1)\n",
            "Requirement already satisfied: pandas>=0.21.1 in /usr/local/lib/python3.7/dist-packages (from category_encoders) (1.1.5)\n",
            "Requirement already satisfied: python-dateutil>=2.7.3 in /usr/local/lib/python3.7/dist-packages (from pandas>=0.21.1->category_encoders) (2.8.2)\n",
            "Requirement already satisfied: pytz>=2017.2 in /usr/local/lib/python3.7/dist-packages (from pandas>=0.21.1->category_encoders) (2018.9)\n",
            "Requirement already satisfied: six in /usr/local/lib/python3.7/dist-packages (from patsy>=0.5.1->category_encoders) (1.15.0)\n",
            "Requirement already satisfied: joblib>=0.11 in /usr/local/lib/python3.7/dist-packages (from scikit-learn>=0.20.0->category_encoders) (1.0.1)\n"
          ],
          "name": "stdout"
        }
      ]
    },
    {
      "cell_type": "code",
      "metadata": {
        "id": "b1MX71HY0STA",
        "colab": {
          "base_uri": "https://localhost:8080/"
        },
        "outputId": "d2aa2dcb-7f81-4215-9606-35422a3245aa"
      },
      "source": [
        "from category_encoders import OrdinalEncoder"
      ],
      "execution_count": 8,
      "outputs": [
        {
          "output_type": "stream",
          "text": [
            "/usr/local/lib/python3.7/dist-packages/statsmodels/tools/_testing.py:19: FutureWarning: pandas.util.testing is deprecated. Use the functions in the public API at pandas.testing instead.\n",
            "  import pandas.util.testing as tm\n"
          ],
          "name": "stderr"
        }
      ]
    },
    {
      "cell_type": "code",
      "metadata": {
        "id": "bsRYKPlGm3O5"
      },
      "source": [
        "features = train.drop(columns=[target]).columns\n",
        "\n",
        "X_train = train[features]\n",
        "y_train = train[target]\n",
        "X_val = val[features]\n",
        "y_val = val[target]\n",
        "X_test = test[features]"
      ],
      "execution_count": 9,
      "outputs": []
    },
    {
      "cell_type": "code",
      "metadata": {
        "id": "jxJtDIMYn5e2",
        "colab": {
          "base_uri": "https://localhost:8080/"
        },
        "outputId": "a582df09-9628-4839-abcc-e9557b6f3680"
      },
      "source": [
        "pip install --upgrade category_encoders"
      ],
      "execution_count": 10,
      "outputs": [
        {
          "output_type": "stream",
          "text": [
            "Requirement already satisfied: category_encoders in /usr/local/lib/python3.7/dist-packages (2.2.2)\n",
            "Requirement already satisfied: patsy>=0.5.1 in /usr/local/lib/python3.7/dist-packages (from category_encoders) (0.5.1)\n",
            "Requirement already satisfied: scikit-learn>=0.20.0 in /usr/local/lib/python3.7/dist-packages (from category_encoders) (0.22.2.post1)\n",
            "Requirement already satisfied: numpy>=1.14.0 in /usr/local/lib/python3.7/dist-packages (from category_encoders) (1.19.5)\n",
            "Requirement already satisfied: statsmodels>=0.9.0 in /usr/local/lib/python3.7/dist-packages (from category_encoders) (0.10.2)\n",
            "Requirement already satisfied: pandas>=0.21.1 in /usr/local/lib/python3.7/dist-packages (from category_encoders) (1.1.5)\n",
            "Requirement already satisfied: scipy>=1.0.0 in /usr/local/lib/python3.7/dist-packages (from category_encoders) (1.4.1)\n",
            "Requirement already satisfied: python-dateutil>=2.7.3 in /usr/local/lib/python3.7/dist-packages (from pandas>=0.21.1->category_encoders) (2.8.2)\n",
            "Requirement already satisfied: pytz>=2017.2 in /usr/local/lib/python3.7/dist-packages (from pandas>=0.21.1->category_encoders) (2018.9)\n",
            "Requirement already satisfied: six in /usr/local/lib/python3.7/dist-packages (from patsy>=0.5.1->category_encoders) (1.15.0)\n",
            "Requirement already satisfied: joblib>=0.11 in /usr/local/lib/python3.7/dist-packages (from scikit-learn>=0.20.0->category_encoders) (1.0.1)\n"
          ],
          "name": "stdout"
        }
      ]
    },
    {
      "cell_type": "code",
      "metadata": {
        "id": "kTtDwS_cnxML",
        "colab": {
          "base_uri": "https://localhost:8080/"
        },
        "outputId": "631ba66f-1959-48a8-8fde-e9aaa0a3030b"
      },
      "source": [
        "from sklearn.pipeline import make_pipeline\n",
        "from category_encoders import OrdinalEncoder\n",
        "from sklearn.impute import SimpleImputer\n",
        "from sklearn.ensemble import RandomForestClassifier\n",
        "from sklearn.metrics import accuracy_score\n",
        "\n",
        "# 파이프라인을 만들어 봅시다.\n",
        "pipe = make_pipeline(\n",
        "    OrdinalEncoder(), \n",
        "    SimpleImputer(), \n",
        "    RandomForestClassifier(n_estimators=100, random_state=2, n_jobs=-1)\n",
        ")\n",
        "\n",
        "\n",
        "pipe.fit(X_train, y_train)\n",
        "y_pred = pipe.predict(X_val)\n",
        "print('검증 정확도: ', accuracy_score(y_val, y_pred))"
      ],
      "execution_count": 11,
      "outputs": [
        {
          "output_type": "stream",
          "text": [
            "검증 정확도:  0.8271853872612976\n"
          ],
          "name": "stdout"
        }
      ]
    },
    {
      "cell_type": "markdown",
      "metadata": {
        "id": "OFcTPXJ11Vtr"
      },
      "source": [
        ""
      ]
    },
    {
      "cell_type": "code",
      "metadata": {
        "id": "syKqhfUy_2Yr",
        "colab": {
          "base_uri": "https://localhost:8080/",
          "height": 297
        },
        "outputId": "f868a7f9-e1d6-4b4e-e48f-9248b4164cae"
      },
      "source": [
        "### 이곳에서 과제를 진행해 주세요 ### \n",
        "from sklearn.metrics import plot_confusion_matrix\n",
        "import matplotlib.pyplot as plt\n",
        "\n",
        "fig, ax = plt.subplots()\n",
        "pcm = plot_confusion_matrix(pipe, X_val, y_val,\n",
        "                            cmap=plt.cm.Blues,\n",
        "                            ax=ax);\n",
        "plt.title(f'Confusion matrix, n = {len(y_val)}', fontsize=15)\n",
        "plt.show()"
      ],
      "execution_count": 12,
      "outputs": [
        {
          "output_type": "display_data",
          "data": {
            "image/png": "[encoded data removed]",
            "text/plain": [
              "<Figure size 432x288 with 2 Axes>"
            ]
          },
          "metadata": {
            "needs_background": "light"
          }
        }
      ]
    },
    {
      "cell_type": "markdown",
      "metadata": {
        "id": "4G16nocB5q0C"
      },
      "source": [
        "#F beta score = 0.7063126093178566"
      ]
    },
    {
      "cell_type": "markdown",
      "metadata": {
        "id": "Ndz37YUP_2Yt"
      },
      "source": [
        "### 2) 모델을 학습한 후 Confusion matrix를 그리고 해석하세요\n",
        "- 임계값을 조정한 후 confusion matrix를 그려보세요\n",
        "- **(객관식) 임계값을 증가시킬때 positive 범주에 대한 재현율의 변화 양상을 과제 제출폼에 제출하세요.**\n",
        "    1. 증가\n",
        "    2. 감소\n",
        "    3. 변화가 없다\n"
      ]
    },
    {
      "cell_type": "code",
      "metadata": {
        "id": "AvsTh4G85jUf"
      },
      "source": [
        "import seaborn as sns"
      ],
      "execution_count": 13,
      "outputs": []
    },
    {
      "cell_type": "code",
      "metadata": {
        "id": "gmYkJ94V5Gvd",
        "colab": {
          "base_uri": "https://localhost:8080/",
          "height": 319
        },
        "outputId": "81f85120-53ce-41e3-b0c3-069f32dd58be"
      },
      "source": [
        "threshold = 0.5\n",
        "y_pred_proba = pipe.predict_proba(X_val)[:, 1]\n",
        "y_pred = y_pred_proba > threshold\n",
        "\n",
        "ax = sns.histplot(y_pred_proba)\n",
        "ax.axvline(threshold, color='red')\n",
        "\n",
        "pd.Series(y_pred).value_counts()"
      ],
      "execution_count": 14,
      "outputs": [
        {
          "output_type": "execute_result",
          "data": {
            "text/plain": [
              "False    7175\n",
              "True     1256\n",
              "dtype: int64"
            ]
          },
          "metadata": {},
          "execution_count": 14
        },
        {
          "output_type": "display_data",
          "data": {
            "image/png": "[encoded data removed]",
            "text/plain": [
              "<Figure size 432x288 with 1 Axes>"
            ]
          },
          "metadata": {
            "needs_background": "light"
          }
        }
      ]
    },
    {
      "cell_type": "code",
      "metadata": {
        "id": "SpMVnRwR8TjU",
        "colab": {
          "base_uri": "https://localhost:8080/",
          "height": 319
        },
        "outputId": "2c33acd2-2bc4-471f-ad1e-bdc44ed79fea"
      },
      "source": [
        "threshold = 0.7\n",
        "y_pred_proba = pipe.predict_proba(X_val)[:, 1]\n",
        "y_pred = y_pred_proba > threshold\n",
        "\n",
        "ax = sns.histplot(y_pred_proba)\n",
        "ax.axvline(threshold, color='red')\n",
        "\n",
        "pd.Series(y_pred).value_counts()"
      ],
      "execution_count": 15,
      "outputs": [
        {
          "output_type": "execute_result",
          "data": {
            "text/plain": [
              "False    7923\n",
              "True      508\n",
              "dtype: int64"
            ]
          },
          "metadata": {},
          "execution_count": 15
        },
        {
          "output_type": "display_data",
          "data": {
            "image/png": "[encoded data removed]",
            "text/plain": [
              "<Figure size 432x288 with 1 Axes>"
            ]
          },
          "metadata": {
            "needs_background": "light"
          }
        }
      ]
    },
    {
      "cell_type": "code",
      "metadata": {
        "id": "rCmO81ZXdXh9"
      },
      "source": [
        "# 재현율 확인 - 함수\n",
        "from sklearn.metrics import plot_confusion_matrix\n",
        "from sklearn.metrics import confusion_matrix\n",
        "from sklearn.metrics import accuracy_score\n",
        "from sklearn.metrics import classification_report, accuracy_score, precision_score, recall_score\n",
        "def recall_check(model, X, y, threshold):\n",
        "    \n",
        "    confmat = confusion_matrix(y_true=y_val, y_pred=y_pred)\n",
        "    y_pred_proba = model.predict_proba(X)[:, 1]\n",
        "    y_pred_threshold = y_pred_proba > threshold\n",
        "    \n",
        "    print('정밀도: %.3f' % precision_score(y_true=y, y_pred=y_pred_threshold)) \n",
        "    print('재현율: %.3f' % recall_score(y_true=y, y_pred=y_pred_threshold))"
      ],
      "execution_count": 29,
      "outputs": []
    },
    {
      "cell_type": "code",
      "metadata": {
        "colab": {
          "base_uri": "https://localhost:8080/"
        },
        "id": "1FRt_mHldagq",
        "outputId": "9d8695ca-9690-4daa-998c-07f7378e6d07"
      },
      "source": [
        "# 임계값(threshold)= 0.2\n",
        "recall_check(pipe,X_val, y_val, 0.2)"
      ],
      "execution_count": 30,
      "outputs": [
        {
          "output_type": "stream",
          "text": [
            "정밀도: 0.436\n",
            "재현율: 0.810\n"
          ],
          "name": "stdout"
        }
      ]
    },
    {
      "cell_type": "code",
      "metadata": {
        "colab": {
          "base_uri": "https://localhost:8080/"
        },
        "id": "gf1ZX54xddwu",
        "outputId": "a830472b-0f5f-43a7-b193-22a40a731e23"
      },
      "source": [
        "# 임계값(threshold)= 0.5\n",
        "recall_check(pipe, X_val, y_val, 0.5)"
      ],
      "execution_count": 31,
      "outputs": [
        {
          "output_type": "stream",
          "text": [
            "정밀도: 0.726\n",
            "재현율: 0.450\n"
          ],
          "name": "stdout"
        }
      ]
    },
    {
      "cell_type": "code",
      "metadata": {
        "colab": {
          "base_uri": "https://localhost:8080/"
        },
        "id": "L8wAoQ5OdjEj",
        "outputId": "0b10d6f2-b921-4079-acb5-6bf358a2e7c4"
      },
      "source": [
        "# 임계값(threshold)= 0.5\n",
        "recall_check(pipe, X_val, y_val, 0.8)"
      ],
      "execution_count": 32,
      "outputs": [
        {
          "output_type": "stream",
          "text": [
            "정밀도: 0.833\n",
            "재현율: 0.092\n"
          ],
          "name": "stdout"
        }
      ]
    },
    {
      "cell_type": "markdown",
      "metadata": {
        "id": "49LqnSoPibsN"
      },
      "source": [
        "#재현율은 감소한다."
      ]
    },
    {
      "cell_type": "code",
      "metadata": {
        "id": "euUqqa757eEr",
        "colab": {
          "base_uri": "https://localhost:8080/",
          "height": 297
        },
        "outputId": "54e8f5fe-373f-4e44-9721-99691f3af348"
      },
      "source": [
        "from sklearn.metrics import plot_confusion_matrix\n",
        "import matplotlib.pyplot as plt\n",
        "\n",
        "fig, ax = plt.subplots()\n",
        "pcm = plot_confusion_matrix(pipe, X_val, y_val,\n",
        "                            cmap=plt.cm.Blues,\n",
        "                            ax=ax);\n",
        "plt.title(f'Confusion matrix, n = {len(y_val)}', fontsize=15)\n",
        "plt.show()"
      ],
      "execution_count": 16,
      "outputs": [
        {
          "output_type": "display_data",
          "data": {
            "image/png": "[encoded data removed]",
            "text/plain": [
              "<Figure size 432x288 with 2 Axes>"
            ]
          },
          "metadata": {
            "needs_background": "light"
          }
        }
      ]
    },
    {
      "cell_type": "markdown",
      "metadata": {
        "id": "GUjyUBMC_2Yx"
      },
      "source": [
        "### 3) 랜덤포레스트의 n_estimator를 1, 10, 100, 1000으로 바꾸어 가며 positive 범주의 predict_proba를 비교해 보세요\n",
        "- 파라미터는 다음과 같이 설정합니다.\n",
        "    - n_jobs=-1, random_state=10, max_depth=None, n_estimators = n\n",
        "- **(객관식) 확률값들의 분포(종류)의 변화를 과제 제출폼에 제출하세요**\n",
        "    1. 다양해진다\n",
        "    2. 변화가없다\n"
      ]
    },
    {
      "cell_type": "code",
      "metadata": {
        "id": "btsYvJuYr4DN",
        "colab": {
          "base_uri": "https://localhost:8080/"
        },
        "outputId": "96ed9bcb-1963-4151-9fd4-346d8b50397c"
      },
      "source": [
        "\n",
        "n_est = [1]\n",
        "for n in n_est:\n",
        "    print('n_estimato값 :', n)\n",
        "    pipe = make_pipeline(\n",
        "    OrdinalEncoder(), \n",
        "    SimpleImputer(), \n",
        "    RandomForestClassifier(n_jobs=-1, random_state=10, max_depth=None, n_estimators = n)\n",
        "    )\n",
        "\n",
        "    pipe.fit(X_train, y_train)\n",
        "    y_pred = pipe.predict(X_val)\n",
        "    print('검증 정확도: ', accuracy_score(y_val, y_pred))\n",
        "    y_proba_1 = pipe.predict_proba(X_val)[:, 1]\n",
        "    print('proba: ', y_proba_1)"
      ],
      "execution_count": 56,
      "outputs": [
        {
          "output_type": "stream",
          "text": [
            "n_estimato값 : 1\n",
            "검증 정확도:  0.733364962637884\n",
            "proba:  [0. 1. 0. ... 0. 0. 1.]\n"
          ],
          "name": "stdout"
        }
      ]
    },
    {
      "cell_type": "code",
      "metadata": {
        "colab": {
          "base_uri": "https://localhost:8080/"
        },
        "id": "CAaPglOUx2Rc",
        "outputId": "f89bdb51-f943-4b66-c575-1a9d547b9414"
      },
      "source": [
        "n_est = [10]\n",
        "for n in n_est:\n",
        "    print('n_estimato값 :', n)\n",
        "    pipe = make_pipeline(\n",
        "    OrdinalEncoder(), \n",
        "    SimpleImputer(), \n",
        "    RandomForestClassifier(n_jobs=-1, random_state=10, max_depth=None, n_estimators = n)\n",
        "    )\n",
        "\n",
        "    pipe.fit(X_train, y_train)\n",
        "    y_pred = pipe.predict(X_val)\n",
        "    print('검증 정확도: ', accuracy_score(y_val, y_pred))\n",
        "    y_proba_10 = pipe.predict_proba(X_val)[:, 1]\n",
        "    print('proba: ', y_proba_10)"
      ],
      "execution_count": 54,
      "outputs": [
        {
          "output_type": "stream",
          "text": [
            "n_estimato값 : 10\n",
            "검증 정확도:  0.8079705847467679\n",
            "proba:  [0.2 0.3 0.4 ... 0.2 0.  0.6]\n"
          ],
          "name": "stdout"
        }
      ]
    },
    {
      "cell_type": "code",
      "metadata": {
        "colab": {
          "base_uri": "https://localhost:8080/"
        },
        "id": "7ssQ-jf6yU_K",
        "outputId": "b27d72bd-9dde-458d-93fa-cfb487cc7081"
      },
      "source": [
        "n_est = [100]\n",
        "for n in n_est:\n",
        "    print('n_estimato값 :', n)\n",
        "    pipe = make_pipeline(\n",
        "    OrdinalEncoder(), \n",
        "    SimpleImputer(), \n",
        "    RandomForestClassifier(n_jobs=-1, random_state=10, max_depth=None, n_estimators = n)\n",
        "    )\n",
        "\n",
        "    pipe.fit(X_train, y_train)\n",
        "    y_pred = pipe.predict(X_val)\n",
        "    print('검증 정확도: ', accuracy_score(y_val, y_pred))\n",
        "    y_proba_100 = pipe.predict_proba(X_val)[:, 1]\n",
        "    print('proba: ', y_proba_100)"
      ],
      "execution_count": 59,
      "outputs": [
        {
          "output_type": "stream",
          "text": [
            "n_estimato값 : 100\n",
            "검증 정확도:  0.8254062388803226\n",
            "proba:  [0.37 0.19 0.41 ... 0.09 0.03 0.36]\n"
          ],
          "name": "stdout"
        }
      ]
    },
    {
      "cell_type": "code",
      "metadata": {
        "colab": {
          "base_uri": "https://localhost:8080/"
        },
        "id": "B4759EPlym_M",
        "outputId": "b66715e5-e9ed-43a7-81a8-23593e39e116"
      },
      "source": [
        "n_est = [1000]\n",
        "for n in n_est:\n",
        "    print('n_estimato값 :', n)\n",
        "    pipe = make_pipeline(\n",
        "    OrdinalEncoder(), \n",
        "    SimpleImputer(), \n",
        "    RandomForestClassifier(n_jobs=-1, random_state=10, max_depth=None, n_estimators = n)\n",
        "    )\n",
        "\n",
        "    pipe.fit(X_train, y_train)\n",
        "    y_pred = pipe.predict(X_val)\n",
        "    print('검증 정확도: ', accuracy_score(y_val, y_pred))\n",
        "    y_proba_1000 = pipe.predict_proba(X_val)[:, 1]\n",
        "    print('proba: ', y_proba_1000)"
      ],
      "execution_count": 61,
      "outputs": [
        {
          "output_type": "stream",
          "text": [
            "n_estimato값 : 1000\n",
            "검증 정확도:  0.8278970466136876\n",
            "proba:  [0.3562 0.164  0.336  ... 0.144  0.063  0.429 ]\n"
          ],
          "name": "stdout"
        }
      ]
    },
    {
      "cell_type": "code",
      "metadata": {
        "colab": {
          "base_uri": "https://localhost:8080/"
        },
        "id": "nLMA3OWDthAr",
        "outputId": "c370a156-e2b6-4562-feaf-000b34932fbd"
      },
      "source": [
        "y_pred"
      ],
      "execution_count": 40,
      "outputs": [
        {
          "output_type": "execute_result",
          "data": {
            "text/plain": [
              "array([0, 0, 0, ..., 0, 0, 0])"
            ]
          },
          "metadata": {},
          "execution_count": 40
        }
      ]
    },
    {
      "cell_type": "markdown",
      "metadata": {
        "id": "0OACjobdj78O"
      },
      "source": [
        "#확률값 분포가 n값의 변화에 따라 변한다."
      ]
    },
    {
      "cell_type": "markdown",
      "metadata": {
        "id": "Gm55IfZt_2Y1"
      },
      "source": [
        "### 4) 두개 이상의 다른 분류 모델을 학습시켜 ROC curve, AUC 점수를 비교하고 설명합니다.\n",
        "- 더 좋은 결과가 나오는 모델을 사용해서 캐글에 제출하세요\n",
        "- **캐글 Leaderboard의 본인 Score를 과제 제출폼에 제출하세요.**"
      ]
    },
    {
      "cell_type": "code",
      "metadata": {
        "colab": {
          "base_uri": "https://localhost:8080/"
        },
        "id": "6WRQoC7xpvp0",
        "outputId": "a97d4d90-3295-4dbf-b688-d650cb6bbc98"
      },
      "source": [
        "y_proba.shape"
      ],
      "execution_count": 36,
      "outputs": [
        {
          "output_type": "execute_result",
          "data": {
            "text/plain": [
              "(8431, 2)"
            ]
          },
          "metadata": {},
          "execution_count": 36
        }
      ]
    },
    {
      "cell_type": "code",
      "metadata": {
        "colab": {
          "base_uri": "https://localhost:8080/"
        },
        "id": "5LhGbIaep4S-",
        "outputId": "5c0412c9-3a77-406c-b3d0-22396cfb28d0"
      },
      "source": [
        "y_val"
      ],
      "execution_count": 38,
      "outputs": [
        {
          "output_type": "execute_result",
          "data": {
            "text/plain": [
              "18885    1\n",
              "8587     0\n",
              "17917    0\n",
              "27985    0\n",
              "917      0\n",
              "        ..\n",
              "25383    1\n",
              "37833    0\n",
              "6921     0\n",
              "2706     0\n",
              "17267    1\n",
              "Name: vacc_h1n1_f, Length: 8431, dtype: int64"
            ]
          },
          "metadata": {},
          "execution_count": 38
        }
      ]
    },
    {
      "cell_type": "code",
      "metadata": {
        "id": "w1_Rvgem_2Y3",
        "colab": {
          "base_uri": "https://localhost:8080/",
          "height": 313
        },
        "outputId": "46b0e00d-60b5-430b-b4c5-c470010c62bb"
      },
      "source": [
        "### 이곳에서 과제를 진행해 주세요 ### \n",
        "\n",
        "\n",
        "pipe = make_pipeline(\n",
        "OrdinalEncoder(), \n",
        "SimpleImputer(), \n",
        "RandomForestClassifier(n_jobs=-1, random_state=10, max_depth=None, n_estimators = 1)\n",
        ")\n",
        "from sklearn.metrics import roc_curve, roc_auc_score\n",
        "\n",
        "\n",
        "auc_score_1 = roc_auc_score(y_val, y_proba_1)\n",
        "fpr_1, tpr_1, thresholds_1 = roc_curve(y_val, y_proba_1)\n",
        "\n",
        "roc_1 = pd.DataFrame({'FPR(Fall-out)': fpr_1, \n",
        "                      'TPRate(Recall)': tpr_1, \n",
        "                      'Threshold': thresholds_1\n",
        "})\n",
        "\n",
        "plt.scatter(fpr_1, tpr_1)\n",
        "plt.title('ROC curve')\n",
        "plt.xlabel('FPR(Fall-out)')\n",
        "plt.ylabel('TPR(Recall)')\n",
        "\n",
        "auc_score_1"
      ],
      "execution_count": 57,
      "outputs": [
        {
          "output_type": "execute_result",
          "data": {
            "text/plain": [
              "0.6420346079590107"
            ]
          },
          "metadata": {},
          "execution_count": 57
        },
        {
          "output_type": "display_data",
          "data": {
            "image/png": "[encoded data removed]",
            "text/plain": [
              "<Figure size 432x288 with 1 Axes>"
            ]
          },
          "metadata": {
            "needs_background": "light"
          }
        }
      ]
    },
    {
      "cell_type": "code",
      "metadata": {
        "colab": {
          "base_uri": "https://localhost:8080/",
          "height": 313
        },
        "id": "YRU4MYq-v1jY",
        "outputId": "890b562f-c43c-4af0-f1e8-f32b0f283511"
      },
      "source": [
        "\n",
        "pipe = make_pipeline(\n",
        "OrdinalEncoder(), \n",
        "SimpleImputer(), \n",
        "RandomForestClassifier(n_jobs=-1, random_state=10, max_depth=None, n_estimators = 10)\n",
        ")\n",
        "from sklearn.metrics import roc_curve, roc_auc_score\n",
        "\n",
        "\n",
        "auc_score_10 = roc_auc_score(y_val, y_proba_10)\n",
        "fpr_10, tpr_10, thresholds_10 = roc_curve(y_val, y_proba_10)\n",
        "\n",
        "roc_10 = pd.DataFrame({'FPR(Fall-out)': fpr_10, \n",
        "                      'TPRate(Recall)': tpr_10, \n",
        "                      'Threshold': thresholds_10\n",
        "})\n",
        "\n",
        "plt.scatter(fpr_10, tpr_10)\n",
        "plt.title('ROC curve')\n",
        "plt.xlabel('FPR(Fall-out)')\n",
        "plt.ylabel('TPR(Recall)')\n",
        "\n",
        "auc_score_10"
      ],
      "execution_count": 58,
      "outputs": [
        {
          "output_type": "execute_result",
          "data": {
            "text/plain": [
              "0.7952396845974394"
            ]
          },
          "metadata": {},
          "execution_count": 58
        },
        {
          "output_type": "display_data",
          "data": {
            "image/png": "[encoded data removed]",
            "text/plain": [
              "<Figure size 432x288 with 1 Axes>"
            ]
          },
          "metadata": {
            "needs_background": "light"
          }
        }
      ]
    },
    {
      "cell_type": "code",
      "metadata": {
        "colab": {
          "base_uri": "https://localhost:8080/",
          "height": 313
        },
        "id": "ZNdMPzPkybU1",
        "outputId": "f7457f4c-8ca8-48a4-ded8-3f70694b1a05"
      },
      "source": [
        "pipe = make_pipeline(\n",
        "OrdinalEncoder(), \n",
        "SimpleImputer(), \n",
        "RandomForestClassifier(n_jobs=-1, random_state=10, max_depth=None, n_estimators = 10)\n",
        ")\n",
        "from sklearn.metrics import roc_curve, roc_auc_score\n",
        "\n",
        "\n",
        "auc_score_100 = roc_auc_score(y_val, y_proba_100)\n",
        "fpr_100, tpr_100, thresholds_100 = roc_curve(y_val, y_proba_100)\n",
        "\n",
        "roc_100 = pd.DataFrame({'FPR(Fall-out)': fpr_100, \n",
        "                      'TPRate(Recall)': tpr_100, \n",
        "                      'Threshold': thresholds_100\n",
        "})\n",
        "\n",
        "plt.scatter(fpr_100, tpr_100)\n",
        "plt.title('ROC curve')\n",
        "plt.xlabel('FPR(Fall-out)')\n",
        "plt.ylabel('TPR(Recall)')\n",
        "\n",
        "auc_score_100\n"
      ],
      "execution_count": 60,
      "outputs": [
        {
          "output_type": "execute_result",
          "data": {
            "text/plain": [
              "0.8258743262810715"
            ]
          },
          "metadata": {},
          "execution_count": 60
        },
        {
          "output_type": "display_data",
          "data": {
            "image/png": "[encoded data removed]",
            "text/plain": [
              "<Figure size 432x288 with 1 Axes>"
            ]
          },
          "metadata": {
            "needs_background": "light"
          }
        }
      ]
    },
    {
      "cell_type": "code",
      "metadata": {
        "colab": {
          "base_uri": "https://localhost:8080/",
          "height": 313
        },
        "id": "AX9f1VO8y870",
        "outputId": "a3f2c2db-24f2-4db7-976d-4f79156cdc21"
      },
      "source": [
        "pipe = make_pipeline(\n",
        "OrdinalEncoder(), \n",
        "SimpleImputer(), \n",
        "RandomForestClassifier(n_jobs=-1, random_state=10, max_depth=None, n_estimators = 10)\n",
        ")\n",
        "from sklearn.metrics import roc_curve, roc_auc_score\n",
        "\n",
        "\n",
        "auc_score_1000 = roc_auc_score(y_val, y_proba_1000)\n",
        "fpr_1000, tpr_1000, thresholds_1000 = roc_curve(y_val, y_proba_1000)\n",
        "\n",
        "roc_1000 = pd.DataFrame({'FPR(Fall-out)': fpr_1000, \n",
        "                      'TPRate(Recall)': tpr_1000, \n",
        "                      'Threshold': thresholds_1000\n",
        "})\n",
        "\n",
        "plt.scatter(fpr_1000, tpr_1000)\n",
        "plt.title('ROC curve')\n",
        "plt.xlabel('FPR(Fall-out)')\n",
        "plt.ylabel('TPR(Recall)')\n",
        "\n",
        "auc_score_1000"
      ],
      "execution_count": 63,
      "outputs": [
        {
          "output_type": "execute_result",
          "data": {
            "text/plain": [
              "0.8308455365927614"
            ]
          },
          "metadata": {},
          "execution_count": 63
        },
        {
          "output_type": "display_data",
          "data": {
            "image/png": "[encoded data removed]",
            "text/plain": [
              "<Figure size 432x288 with 1 Axes>"
            ]
          },
          "metadata": {
            "needs_background": "light"
          }
        }
      ]
    },
    {
      "cell_type": "markdown",
      "metadata": {
        "id": "PSHx_3Bm_2Y4"
      },
      "source": [
        "## 🔥 도전과제"
      ]
    },
    {
      "cell_type": "markdown",
      "metadata": {
        "id": "fBcVrxsV_2Y5"
      },
      "source": [
        "### 5) 각 평가지표에 대해 결과를 최대한 분석하고 무엇이 부족한지, 어떤 방향으로 성능을 높여야 하는지 논하세요."
      ]
    },
    {
      "cell_type": "code",
      "metadata": {
        "id": "8AC110nm_2Y6"
      },
      "source": [
        "### 이곳에서 과제를 진행해 주세요 ### "
      ],
      "execution_count": null,
      "outputs": []
    }
  ]
}